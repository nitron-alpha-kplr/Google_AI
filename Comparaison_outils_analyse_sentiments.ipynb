{
  "cells": [
    {
      "cell_type": "markdown",
      "metadata": {
        "id": "view-in-github",
        "colab_type": "text"
      },
      "source": [
        "<a href=\"https://colab.research.google.com/github/nitron-alpha-kplr/Google_AI/blob/main/Comparaison_outils_analyse_sentiments.ipynb\" target=\"_parent\"><img src=\"https://colab.research.google.com/assets/colab-badge.svg\" alt=\"Open In Colab\"/></a>"
      ]
    },
    {
      "cell_type": "markdown",
      "metadata": {
        "id": "tMeD4j_TgYjk"
      },
      "source": [
        "# Sentiment Analysis Tools\n",
        "\n",
        "Il existe de nombreuses bibliothèques qui font l'analyse des sentiments pour vous. Imaginez ça : il suffit de prendre une phrase, de la jeter dans une bibliothèque et d'obtenir un score en retour ! Comme c'est pratique !\n",
        "\n",
        "Cela peut aussi être **totalement irresponsable** si vous ne savez pas comment l'analyseur de sentiments a été construit. Dans cette section, nous allons voir comment l'analyse de sentiments est faite avec quelques paquets différents."
      ]
    },
    {
      "cell_type": "markdown",
      "metadata": {
        "id": "BnTAuG30gYjq"
      },
      "source": [
        "### Installation\n",
        "\n",
        "Nous allons utiliser deux paquets de traitement du langage, NLTK et Textblob, ainsi que deux bibliothèques d'analyse de données/visualisation, matplotlib et pandas. Vous pouvez décommenter et exécuter la cellule ci-dessous si vous en avez besoin."
      ]
    },
    {
      "cell_type": "code",
      "execution_count": 1,
      "metadata": {
        "id": "H9mhUZe7gYjr"
      },
      "outputs": [],
      "source": [
        "# !pip install matplotlib pandas nltk textblob"
      ]
    },
    {
      "cell_type": "markdown",
      "source": [
        "## Outils"
      ],
      "metadata": {
        "id": "E4jN3eWaoSsb"
      }
    },
    {
      "cell_type": "markdown",
      "metadata": {
        "id": "EGxpu4d4gYjs"
      },
      "source": [
        "### NLTK: Natural Language Tooklit\n",
        "\n",
        "[Natural Language Toolkit](https://www.nltk.org/) est la base de beaucoup d'analyses de texte réalisées en Python. Il est vieux, terrible et lent, mais il est utilisé depuis si longtemps et fait tellement de choses qu'il est généralement utilisé par défaut lorsque les gens se lancent dans l'analyse de texte. Le petit dernier est [spaCy](https://spacy.io/) (mais il ne fait pas d'analyse de sentiments tout de suite, donc nous le laissons de côté).\n",
        "\n",
        "Lorsque vous lancez NLTK pour la première fois, vous devez télécharger quelques jeux de données pour vous assurer qu'il sera capable de faire tout ce que vous voulez."
      ]
    },
    {
      "cell_type": "code",
      "execution_count": 2,
      "metadata": {
        "id": "N4hTcEybgYjt",
        "outputId": "a11b0572-8fb3-45b4-a0e5-4564c46ea0d9",
        "colab": {
          "base_uri": "https://localhost:8080/"
        }
      },
      "outputs": [
        {
          "output_type": "stream",
          "name": "stderr",
          "text": [
            "[nltk_data] Downloading package vader_lexicon to /root/nltk_data...\n",
            "[nltk_data] Downloading package movie_reviews to /root/nltk_data...\n",
            "[nltk_data]   Unzipping corpora/movie_reviews.zip.\n",
            "[nltk_data] Downloading package punkt to /root/nltk_data...\n",
            "[nltk_data]   Unzipping tokenizers/punkt.zip.\n"
          ]
        },
        {
          "output_type": "execute_result",
          "data": {
            "text/plain": [
              "True"
            ]
          },
          "metadata": {},
          "execution_count": 2
        }
      ],
      "source": [
        "import nltk\n",
        "nltk.download('vader_lexicon')\n",
        "nltk.download('movie_reviews')\n",
        "nltk.download('punkt')"
      ]
    },
    {
      "cell_type": "markdown",
      "metadata": {
        "id": "f8aFdXqOgYjv"
      },
      "source": [
        "Pour faire de l'analyse de sentiments avec NLTK, il suffit de quelques lignes de code. Pour déterminer le sentiment, il utilise un outil appelé **VADER**."
      ]
    },
    {
      "cell_type": "code",
      "execution_count": 3,
      "metadata": {
        "id": "MCcGu05WgYjv",
        "outputId": "5063741c-066e-408c-85ff-40348f8a1666",
        "colab": {
          "base_uri": "https://localhost:8080/"
        }
      },
      "outputs": [
        {
          "output_type": "execute_result",
          "data": {
            "text/plain": [
              "{'neg': 0.153, 'neu': 0.688, 'pos': 0.159, 'compound': 0.0276}"
            ]
          },
          "metadata": {},
          "execution_count": 3
        }
      ],
      "source": [
        "from nltk.sentiment.vader import SentimentIntensityAnalyzer as SIA\n",
        "\n",
        "sia = SIA()\n",
        "sia.polarity_scores(\"This restaurant was great, but I'm not sure if I'll go there again.\")"
      ]
    },
    {
      "cell_type": "markdown",
      "metadata": {
        "id": "TzhM35SngYjw"
      },
      "source": [
        "Demander à `SentimentIntensityAnalyzer` le `polarity_score` nous a donné quatre valeurs dans un dictionnaire :\n",
        "\n",
        "- **negative:** le sentiment négatif dans une phrase\n",
        "- **neutre:** le sentiment neutre dans une phrase\n",
        "- **positif:** le sentiment positif dans une phrase\n",
        "- **compound:** le sentiment agrégé.\n",
        "\n",
        "Cela semble assez simple !"
      ]
    },
    {
      "cell_type": "code",
      "execution_count": 4,
      "metadata": {
        "id": "BXypif5agYjx",
        "outputId": "45c43c4e-eaf6-478d-f4be-1321d43d904a",
        "colab": {
          "base_uri": "https://localhost:8080/"
        }
      },
      "outputs": [
        {
          "output_type": "execute_result",
          "data": {
            "text/plain": [
              "{'neg': 0.0, 'neu': 1.0, 'pos': 0.0, 'compound': 0.0}"
            ]
          },
          "metadata": {},
          "execution_count": 4
        }
      ],
      "source": [
        "text = \"I just got a call from my boss - does he realise it's Saturday?\"\n",
        "sia.polarity_scores(text)"
      ]
    },
    {
      "cell_type": "markdown",
      "metadata": {
        "id": "khpqM19tgYjx"
      },
      "source": [
        "Tout comme dans la vie réelle, si vous utilisez une émoticône, on peut penser que vous êtes plus positif :"
      ]
    },
    {
      "cell_type": "code",
      "execution_count": 5,
      "metadata": {
        "id": "dM5CVrtqgYjy",
        "outputId": "c826da14-0d85-4921-c237-5aec783a60f3",
        "colab": {
          "base_uri": "https://localhost:8080/"
        }
      },
      "outputs": [
        {
          "output_type": "execute_result",
          "data": {
            "text/plain": [
              "{'neg': 0.0, 'neu': 0.786, 'pos': 0.214, 'compound': 0.4588}"
            ]
          },
          "metadata": {},
          "execution_count": 5
        }
      ],
      "source": [
        "text = \"I just got a call from my boss - does he realise it's Saturday? :)\"\n",
        "sia.polarity_scores(text)"
      ]
    },
    {
      "cell_type": "markdown",
      "metadata": {
        "id": "FWZQWGGVgYjy"
      },
      "source": [
        "Mais si on échangeait l'émoticône contre un emoji ?"
      ]
    },
    {
      "cell_type": "code",
      "execution_count": null,
      "metadata": {
        "id": "1yaAXNsTgYjz",
        "outputId": "f9f4356a-d96f-4a41-fbb8-4b2ea3995f7a",
        "colab": {
          "base_uri": "https://localhost:8080/"
        }
      },
      "outputs": [
        {
          "output_type": "execute_result",
          "data": {
            "text/plain": [
              "{'compound': 0.0, 'neg': 0.0, 'neu': 1.0, 'pos': 0.0}"
            ]
          },
          "metadata": {},
          "execution_count": 6
        }
      ],
      "source": [
        "text = \"I just got a call from my boss - does he realise it's Saturday? 😊\"\n",
        "sia.polarity_scores(text)"
      ]
    },
    {
      "cell_type": "markdown",
      "metadata": {
        "id": "njZzanJTgYjz"
      },
      "source": [
        "Retour au neutre ! Pourquoi n'a-t-il pas compris l'emoji de la même façon que l'emoticon ? Eh bien, **les outils d'analyse de texte ne connaissent que les mots qu'on leur a appris,** et si VADER n'a jamais vu 😊 auparavant, il ne saura pas quoi en penser."
      ]
    },
    {
      "cell_type": "markdown",
      "metadata": {
        "id": "wjSgmZDQgYj0"
      },
      "source": [
        "### TextBlob\n",
        "\n",
        "TextBlob est construit au-dessus de NLTK, mais est infiniment plus facile à utiliser. C'est toujours lent, mais _c'est tellement tellement facile à utiliser_.\n",
        "\n",
        "Vous pouvez simplement donner votre phrase à TextBlob, puis demander un `.sentiment` !"
      ]
    },
    {
      "cell_type": "code",
      "execution_count": 6,
      "metadata": {
        "id": "DhF3cFR8gYj0"
      },
      "outputs": [],
      "source": [
        "from textblob import TextBlob\n",
        "from textblob import Blobber\n",
        "from textblob.sentiments import NaiveBayesAnalyzer"
      ]
    },
    {
      "cell_type": "code",
      "execution_count": 7,
      "metadata": {
        "id": "p6bsNjAfgYj0",
        "outputId": "bacfad66-240c-4e8f-a822-cb320ad1f74c",
        "colab": {
          "base_uri": "https://localhost:8080/"
        }
      },
      "outputs": [
        {
          "output_type": "execute_result",
          "data": {
            "text/plain": [
              "Sentiment(polarity=0.275, subjectivity=0.8194444444444444)"
            ]
          },
          "metadata": {},
          "execution_count": 7
        }
      ],
      "source": [
        "blob = TextBlob(\"This restaurant was great, but I'm not sure if I'll go there again.\")\n",
        "blob.sentiment"
      ]
    },
    {
      "cell_type": "markdown",
      "metadata": {
        "id": "6aT3o9FHgYj1"
      },
      "source": [
        "Cette fois, nous obtenons une `polarité` et une `subjectivité` au lieu de tous ces scores différents, mais c'est fondamentalement la même idée.\n",
        "\n",
        "Si vous aimez les options : il s'avère que TextBlob dispose en fait de plusieurs outils d'analyse de sentiments ! Quel plaisir ! Nous pouvons brancher un autre analyseur pour obtenir un autre résultat."
      ]
    },
    {
      "cell_type": "code",
      "execution_count": 8,
      "metadata": {
        "id": "xa0cnOz9gYj1",
        "outputId": "97128dd6-c272-406e-8e30-be46b3528cb8",
        "colab": {
          "base_uri": "https://localhost:8080/"
        }
      },
      "outputs": [
        {
          "output_type": "execute_result",
          "data": {
            "text/plain": [
              "Sentiment(classification='pos', p_pos=0.5879425317005774, p_neg=0.41205746829942275)"
            ]
          },
          "metadata": {},
          "execution_count": 8
        }
      ],
      "source": [
        "blobber = Blobber(analyzer=NaiveBayesAnalyzer())\n",
        "\n",
        "blob = blobber(\"This restaurant was great, but I'm not sure if I'll go there again.\")\n",
        "blob.sentiment"
      ]
    },
    {
      "cell_type": "markdown",
      "metadata": {
        "id": "Kko86ZgYgYj1"
      },
      "source": [
        "Wow, c'est un résultat très différent. Pour comprendre pourquoi c'est si différent, nous devons parler de l'origine de ces chiffres de sentiment."
      ]
    },
    {
      "cell_type": "markdown",
      "metadata": {
        "id": "ixgNy07PgYj2"
      },
      "source": [
        "## How were they made?\n",
        "\n",
        "La chose la plus importante à comprendre est que **le sentiment n'est jamais qu'une opinion**. Dans ce cas, c'est une opinion, oui, mais spécifiquement **l'opinion d'une machine**.\n",
        "\n",
        "### VADER\n",
        "\n",
        "L'analyseur d'intensité de sentiment de NLTK fonctionne en utilisant un élément appelé **VADER**, qui est une liste de mots auxquels est associé un sentiment.\n",
        "\n",
        "|Word|Sentiment rating|\n",
        "|---|---|\n",
        "|tragedy|-3.4|\n",
        "|rejoiced|2.0|\n",
        "|disaster|-3.1|\n",
        "|great|3.1|\n",
        "\n",
        "Si vous avez plus de positifs, la phrase est plus positive. Si vous avez plus de négatifs, elle est plus négative. Il peut également prendre en compte des éléments tels que les majuscules. Vous pouvez en savoir plus sur le classificateur [ici] (http://t-redactyl.io/blog/2017/04/using-vader-to-handle-sentiment-analysis-with-social-media-text.html), ou sur l'article dont il est issu [ici] (http://comp.social.gatech.edu/papers/icwsm14.vader.hutto.pdf).\n",
        "\n",
        "**Comment savent-ils ce qui est positif/négatif ? Ils ont dressé une très longue liste de mots, puis ont interrogé des internautes et les ont payés un centime pour chaque mot noté.\n",
        "\n",
        "\n",
        "### TextBlob's `.sentiment`\n",
        "\n",
        "L'analyse des sentiments de TextBlob est basée sur une bibliothèque distincte appelée [pattern] (https://www.clips.uantwerpen.be/pattern).\n",
        "\n",
        "> Le lexique d'analyse des sentiments fourni par Pattern se concentre sur les adjectifs. Il contient des adjectifs qui apparaissent fréquemment dans les commentaires des clients, étiquetés à la main avec des valeurs de polarité et de subjectivité.\n",
        "\n",
        "C'est le même genre de chose que VADER de NLTK, mais il examine spécifiquement les mots provenant des commentaires des clients.\n",
        "\n",
        "**Comment savent-ils ce qui est positif/négatif ? Ils regardent (principalement) les adjectifs qui apparaissent dans les commentaires des clients et les étiquettent manuellement.\n",
        "\n",
        "### TextBlob's `.sentiment` + NaiveBayesAnalyzer\n",
        "\n",
        "L'autre option de TextBlob utilise un `NaiveBayesAnalyzer`, qui est une technique d'apprentissage automatique. Lorsque vous utilisez cette option avec TextBlob, le sentiment provient d'un \"classificateur NLTK formé sur un corpus de critiques de films\".\n",
        "\n",
        "**Comment savent-ils ce qui est positif/négatif?** En examinant les critiques et les notes de films à l'aide de l'apprentissage automatique, l'ordinateur a _automatiquement appris_ quels mots sont associés à une note positive ou négative.\n",
        "\n",
        "## What's this mean for me?\n",
        "\n",
        "Lorsque vous faites de l'analyse de sentiments avec des outils comme celui-ci, vous devez vous poser quelques questions importantes :\n",
        "\n",
        "* D'où provient la liste des mots connus ?\n",
        "* Utilise-t-il tous les mots, ou une sélection de mots ?\n",
        "* D'où proviennent les scores positifs/négatifs ?\n",
        "\n",
        "Comparons les outils que nous avons utilisés jusqu'à présent.\n",
        "\n",
        "|technique|word source|word selection|scores|\n",
        "|---|---|---|---|\n",
        "|NLTK (VADER)|everywhere|hand-picked|internet people, word-by-word|\n",
        "|TextBlob|product reviews|hand-picked, mostly adjectives|internet people, word-by-word|\n",
        "|TextBlob + NaiveBayesAnalyzer|movie reviews|all words|automatic based on score|\n",
        "\n",
        "Une chose importante qui devrait vous sauter aux yeux est **la différence entre les sources.**\n",
        "\n",
        "Alors que VADER se concentre sur le contenu trouvé partout, les deux options de TextBlob sont spécifiques à certains domaines. Le [document original de VADER] (http://comp.social.gatech.edu/papers/icwsm14.vader.hutto.pdf) note de manière passive-agressive que VADER est efficace pour une utilisation générale, mais qu'être entraîné sur un domaine spécifique peut avoir des avantages :\n",
        "\n",
        "> Bien que certains algorithmes aient obtenu des résultats décents sur des données de test provenant du domaine spécifique pour lequel ils ont été expressément formés, ils ne dépassent pas de manière significative le modèle simple que nous utilisons.\n",
        "\n",
        "En gros, ils disent : \"si vous entraînez un modèle sur des mots d'un certain domaine, il sera bon pour le sentiment dans ce domaine\"."
      ]
    },
    {
      "cell_type": "markdown",
      "metadata": {
        "id": "DyyuMmYhgYj2"
      },
      "source": [
        "## Tableau comparatif\n",
        "\n",
        "Parce qu'ils sont construits différemment, les outils d'analyse des sentiments ne sont pas toujours d'accord. Prenons un ensemble de phrases et comparons la compréhension qu'en a chaque analyseur."
      ]
    },
    {
      "cell_type": "code",
      "execution_count": 9,
      "metadata": {
        "id": "Ly5omRYEgYj2",
        "outputId": "de8daa29-3eb9-4ef9-d976-e2476d40004f",
        "colab": {
          "base_uri": "https://localhost:8080/",
          "height": 300
        }
      },
      "outputs": [
        {
          "output_type": "execute_result",
          "data": {
            "text/plain": [
              "                                                                    content\n",
              "0                                         I love love love love this kitten\n",
              "1                                       I hate hate hate hate this keyboard\n",
              "2                                       I'm not sure how I feel about toast\n",
              "3                                  Did you see the baseball game yesterday?\n",
              "4               The package was delivered late and the contents were broken\n",
              "5                          Trashy television shows are some of my favorites\n",
              "6  I'm seeing a Kubrick film tomorrow, I hear not so great things about it.\n",
              "7         I find chirping birds irritating, but I know I'm not the only one"
            ],
            "text/html": [
              "\n",
              "  <div id=\"df-26a2b01a-410c-4a06-8767-9794ee77fdfd\">\n",
              "    <div class=\"colab-df-container\">\n",
              "      <div>\n",
              "<style scoped>\n",
              "    .dataframe tbody tr th:only-of-type {\n",
              "        vertical-align: middle;\n",
              "    }\n",
              "\n",
              "    .dataframe tbody tr th {\n",
              "        vertical-align: top;\n",
              "    }\n",
              "\n",
              "    .dataframe thead th {\n",
              "        text-align: right;\n",
              "    }\n",
              "</style>\n",
              "<table border=\"1\" class=\"dataframe\">\n",
              "  <thead>\n",
              "    <tr style=\"text-align: right;\">\n",
              "      <th></th>\n",
              "      <th>content</th>\n",
              "    </tr>\n",
              "  </thead>\n",
              "  <tbody>\n",
              "    <tr>\n",
              "      <th>0</th>\n",
              "      <td>I love love love love this kitten</td>\n",
              "    </tr>\n",
              "    <tr>\n",
              "      <th>1</th>\n",
              "      <td>I hate hate hate hate this keyboard</td>\n",
              "    </tr>\n",
              "    <tr>\n",
              "      <th>2</th>\n",
              "      <td>I'm not sure how I feel about toast</td>\n",
              "    </tr>\n",
              "    <tr>\n",
              "      <th>3</th>\n",
              "      <td>Did you see the baseball game yesterday?</td>\n",
              "    </tr>\n",
              "    <tr>\n",
              "      <th>4</th>\n",
              "      <td>The package was delivered late and the contents were broken</td>\n",
              "    </tr>\n",
              "    <tr>\n",
              "      <th>5</th>\n",
              "      <td>Trashy television shows are some of my favorites</td>\n",
              "    </tr>\n",
              "    <tr>\n",
              "      <th>6</th>\n",
              "      <td>I'm seeing a Kubrick film tomorrow, I hear not so great things about it.</td>\n",
              "    </tr>\n",
              "    <tr>\n",
              "      <th>7</th>\n",
              "      <td>I find chirping birds irritating, but I know I'm not the only one</td>\n",
              "    </tr>\n",
              "  </tbody>\n",
              "</table>\n",
              "</div>\n",
              "      <button class=\"colab-df-convert\" onclick=\"convertToInteractive('df-26a2b01a-410c-4a06-8767-9794ee77fdfd')\"\n",
              "              title=\"Convert this dataframe to an interactive table.\"\n",
              "              style=\"display:none;\">\n",
              "        \n",
              "  <svg xmlns=\"http://www.w3.org/2000/svg\" height=\"24px\"viewBox=\"0 0 24 24\"\n",
              "       width=\"24px\">\n",
              "    <path d=\"M0 0h24v24H0V0z\" fill=\"none\"/>\n",
              "    <path d=\"M18.56 5.44l.94 2.06.94-2.06 2.06-.94-2.06-.94-.94-2.06-.94 2.06-2.06.94zm-11 1L8.5 8.5l.94-2.06 2.06-.94-2.06-.94L8.5 2.5l-.94 2.06-2.06.94zm10 10l.94 2.06.94-2.06 2.06-.94-2.06-.94-.94-2.06-.94 2.06-2.06.94z\"/><path d=\"M17.41 7.96l-1.37-1.37c-.4-.4-.92-.59-1.43-.59-.52 0-1.04.2-1.43.59L10.3 9.45l-7.72 7.72c-.78.78-.78 2.05 0 2.83L4 21.41c.39.39.9.59 1.41.59.51 0 1.02-.2 1.41-.59l7.78-7.78 2.81-2.81c.8-.78.8-2.07 0-2.86zM5.41 20L4 18.59l7.72-7.72 1.47 1.35L5.41 20z\"/>\n",
              "  </svg>\n",
              "      </button>\n",
              "      \n",
              "  <style>\n",
              "    .colab-df-container {\n",
              "      display:flex;\n",
              "      flex-wrap:wrap;\n",
              "      gap: 12px;\n",
              "    }\n",
              "\n",
              "    .colab-df-convert {\n",
              "      background-color: #E8F0FE;\n",
              "      border: none;\n",
              "      border-radius: 50%;\n",
              "      cursor: pointer;\n",
              "      display: none;\n",
              "      fill: #1967D2;\n",
              "      height: 32px;\n",
              "      padding: 0 0 0 0;\n",
              "      width: 32px;\n",
              "    }\n",
              "\n",
              "    .colab-df-convert:hover {\n",
              "      background-color: #E2EBFA;\n",
              "      box-shadow: 0px 1px 2px rgba(60, 64, 67, 0.3), 0px 1px 3px 1px rgba(60, 64, 67, 0.15);\n",
              "      fill: #174EA6;\n",
              "    }\n",
              "\n",
              "    [theme=dark] .colab-df-convert {\n",
              "      background-color: #3B4455;\n",
              "      fill: #D2E3FC;\n",
              "    }\n",
              "\n",
              "    [theme=dark] .colab-df-convert:hover {\n",
              "      background-color: #434B5C;\n",
              "      box-shadow: 0px 1px 3px 1px rgba(0, 0, 0, 0.15);\n",
              "      filter: drop-shadow(0px 1px 2px rgba(0, 0, 0, 0.3));\n",
              "      fill: #FFFFFF;\n",
              "    }\n",
              "  </style>\n",
              "\n",
              "      <script>\n",
              "        const buttonEl =\n",
              "          document.querySelector('#df-26a2b01a-410c-4a06-8767-9794ee77fdfd button.colab-df-convert');\n",
              "        buttonEl.style.display =\n",
              "          google.colab.kernel.accessAllowed ? 'block' : 'none';\n",
              "\n",
              "        async function convertToInteractive(key) {\n",
              "          const element = document.querySelector('#df-26a2b01a-410c-4a06-8767-9794ee77fdfd');\n",
              "          const dataTable =\n",
              "            await google.colab.kernel.invokeFunction('convertToInteractive',\n",
              "                                                     [key], {});\n",
              "          if (!dataTable) return;\n",
              "\n",
              "          const docLinkHtml = 'Like what you see? Visit the ' +\n",
              "            '<a target=\"_blank\" href=https://colab.research.google.com/notebooks/data_table.ipynb>data table notebook</a>'\n",
              "            + ' to learn more about interactive tables.';\n",
              "          element.innerHTML = '';\n",
              "          dataTable['output_type'] = 'display_data';\n",
              "          await google.colab.output.renderOutput(dataTable, element);\n",
              "          const docLink = document.createElement('div');\n",
              "          docLink.innerHTML = docLinkHtml;\n",
              "          element.appendChild(docLink);\n",
              "        }\n",
              "      </script>\n",
              "    </div>\n",
              "  </div>\n",
              "  "
            ]
          },
          "metadata": {},
          "execution_count": 9
        }
      ],
      "source": [
        "import pandas as pd\n",
        "pd.set_option(\"display.max_colwidth\", 200)\n",
        "\n",
        "df = pd.DataFrame({'content': [\n",
        "    \"I love love love love this kitten\",\n",
        "    \"I hate hate hate hate this keyboard\",\n",
        "    \"I'm not sure how I feel about toast\",\n",
        "    \"Did you see the baseball game yesterday?\",\n",
        "    \"The package was delivered late and the contents were broken\",\n",
        "    \"Trashy television shows are some of my favorites\",\n",
        "    \"I'm seeing a Kubrick film tomorrow, I hear not so great things about it.\",\n",
        "    \"I find chirping birds irritating, but I know I'm not the only one\",\n",
        "]})\n",
        "df"
      ]
    },
    {
      "cell_type": "code",
      "execution_count": 10,
      "metadata": {
        "id": "K9o5YUjhgYj3",
        "outputId": "31a2db34-2ac1-4388-d2a5-df62c20a01d6",
        "colab": {
          "base_uri": "https://localhost:8080/",
          "height": 300
        }
      },
      "outputs": [
        {
          "output_type": "execute_result",
          "data": {
            "text/plain": [
              "<pandas.io.formats.style.Styler at 0x7f128f70e320>"
            ],
            "text/html": [
              "<style type=\"text/css\">\n",
              "#T_8ffb1_row0_col1 {\n",
              "  background-color: #c3e67d;\n",
              "  color: #000000;\n",
              "}\n",
              "#T_8ffb1_row0_col2 {\n",
              "  background-color: #fff6b0;\n",
              "  color: #000000;\n",
              "}\n",
              "#T_8ffb1_row0_col3 {\n",
              "  background-color: #73c264;\n",
              "  color: #000000;\n",
              "}\n",
              "#T_8ffb1_row1_col1 {\n",
              "  background-color: #fa9656;\n",
              "  color: #000000;\n",
              "}\n",
              "#T_8ffb1_row1_col2 {\n",
              "  background-color: #feeb9d;\n",
              "  color: #000000;\n",
              "}\n",
              "#T_8ffb1_row1_col3 {\n",
              "  background-color: #f67a49;\n",
              "  color: #f1f1f1;\n",
              "}\n",
              "#T_8ffb1_row2_col1, #T_8ffb1_row7_col3 {\n",
              "  background-color: #fee797;\n",
              "  color: #000000;\n",
              "}\n",
              "#T_8ffb1_row2_col2 {\n",
              "  background-color: #d3ec87;\n",
              "  color: #000000;\n",
              "}\n",
              "#T_8ffb1_row2_col3 {\n",
              "  background-color: #fee999;\n",
              "  color: #000000;\n",
              "}\n",
              "#T_8ffb1_row3_col1 {\n",
              "  background-color: #fed683;\n",
              "  color: #000000;\n",
              "}\n",
              "#T_8ffb1_row3_col2 {\n",
              "  background-color: #b1de71;\n",
              "  color: #000000;\n",
              "}\n",
              "#T_8ffb1_row3_col3, #T_8ffb1_row5_col1 {\n",
              "  background-color: #fffebe;\n",
              "  color: #000000;\n",
              "}\n",
              "#T_8ffb1_row4_col1 {\n",
              "  background-color: #fede89;\n",
              "  color: #000000;\n",
              "}\n",
              "#T_8ffb1_row4_col2 {\n",
              "  background-color: #fdbd6d;\n",
              "  color: #000000;\n",
              "}\n",
              "#T_8ffb1_row4_col3 {\n",
              "  background-color: #feca79;\n",
              "  color: #000000;\n",
              "}\n",
              "#T_8ffb1_row5_col2 {\n",
              "  background-color: #fbfdba;\n",
              "  color: #000000;\n",
              "}\n",
              "#T_8ffb1_row5_col3 {\n",
              "  background-color: #cfeb85;\n",
              "  color: #000000;\n",
              "}\n",
              "#T_8ffb1_row6_col1 {\n",
              "  background-color: #91d068;\n",
              "  color: #000000;\n",
              "}\n",
              "#T_8ffb1_row6_col2 {\n",
              "  background-color: #a0d669;\n",
              "  color: #000000;\n",
              "}\n",
              "#T_8ffb1_row6_col3 {\n",
              "  background-color: #fdb567;\n",
              "  color: #000000;\n",
              "}\n",
              "#T_8ffb1_row7_col1 {\n",
              "  background-color: #feec9f;\n",
              "  color: #000000;\n",
              "}\n",
              "#T_8ffb1_row7_col2 {\n",
              "  background-color: #e3f399;\n",
              "  color: #000000;\n",
              "}\n",
              "</style>\n",
              "<table id=\"T_8ffb1\" class=\"dataframe\">\n",
              "  <thead>\n",
              "    <tr>\n",
              "      <th class=\"blank level0\" >&nbsp;</th>\n",
              "      <th id=\"T_8ffb1_level0_col0\" class=\"col_heading level0 col0\" >content</th>\n",
              "      <th id=\"T_8ffb1_level0_col1\" class=\"col_heading level0 col1\" >textblob</th>\n",
              "      <th id=\"T_8ffb1_level0_col2\" class=\"col_heading level0 col2\" >textblob_bayes</th>\n",
              "      <th id=\"T_8ffb1_level0_col3\" class=\"col_heading level0 col3\" >nltk</th>\n",
              "    </tr>\n",
              "  </thead>\n",
              "  <tbody>\n",
              "    <tr>\n",
              "      <th id=\"T_8ffb1_level0_row0\" class=\"row_heading level0 row0\" >0</th>\n",
              "      <td id=\"T_8ffb1_row0_col0\" class=\"data row0 col0\" >I love love love love this kitten</td>\n",
              "      <td id=\"T_8ffb1_row0_col1\" class=\"data row0 col1\" >0.500000</td>\n",
              "      <td id=\"T_8ffb1_row0_col2\" class=\"data row0 col2\" >-0.087933</td>\n",
              "      <td id=\"T_8ffb1_row0_col3\" class=\"data row0 col3\" >0.957100</td>\n",
              "    </tr>\n",
              "    <tr>\n",
              "      <th id=\"T_8ffb1_level0_row1\" class=\"row_heading level0 row1\" >1</th>\n",
              "      <td id=\"T_8ffb1_row1_col0\" class=\"data row1 col0\" >I hate hate hate hate this keyboard</td>\n",
              "      <td id=\"T_8ffb1_row1_col1\" class=\"data row1 col1\" >-0.800000</td>\n",
              "      <td id=\"T_8ffb1_row1_col2\" class=\"data row1 col2\" >-0.214151</td>\n",
              "      <td id=\"T_8ffb1_row1_col3\" class=\"data row1 col3\" >-0.941300</td>\n",
              "    </tr>\n",
              "    <tr>\n",
              "      <th id=\"T_8ffb1_level0_row2\" class=\"row_heading level0 row2\" >2</th>\n",
              "      <td id=\"T_8ffb1_row2_col0\" class=\"data row2 col0\" >I'm not sure how I feel about toast</td>\n",
              "      <td id=\"T_8ffb1_row2_col1\" class=\"data row2 col1\" >-0.250000</td>\n",
              "      <td id=\"T_8ffb1_row2_col2\" class=\"data row2 col2\" >0.394659</td>\n",
              "      <td id=\"T_8ffb1_row2_col3\" class=\"data row2 col3\" >-0.241100</td>\n",
              "    </tr>\n",
              "    <tr>\n",
              "      <th id=\"T_8ffb1_level0_row3\" class=\"row_heading level0 row3\" >3</th>\n",
              "      <td id=\"T_8ffb1_row3_col0\" class=\"data row3 col0\" >Did you see the baseball game yesterday?</td>\n",
              "      <td id=\"T_8ffb1_row3_col1\" class=\"data row3 col1\" >-0.400000</td>\n",
              "      <td id=\"T_8ffb1_row3_col2\" class=\"data row3 col2\" >0.613050</td>\n",
              "      <td id=\"T_8ffb1_row3_col3\" class=\"data row3 col3\" >0.000000</td>\n",
              "    </tr>\n",
              "    <tr>\n",
              "      <th id=\"T_8ffb1_level0_row4\" class=\"row_heading level0 row4\" >4</th>\n",
              "      <td id=\"T_8ffb1_row4_col0\" class=\"data row4 col0\" >The package was delivered late and the contents were broken</td>\n",
              "      <td id=\"T_8ffb1_row4_col1\" class=\"data row4 col1\" >-0.350000</td>\n",
              "      <td id=\"T_8ffb1_row4_col2\" class=\"data row4 col2\" >-0.574270</td>\n",
              "      <td id=\"T_8ffb1_row4_col3\" class=\"data row4 col3\" >-0.476700</td>\n",
              "    </tr>\n",
              "    <tr>\n",
              "      <th id=\"T_8ffb1_level0_row5\" class=\"row_heading level0 row5\" >5</th>\n",
              "      <td id=\"T_8ffb1_row5_col0\" class=\"data row5 col0\" >Trashy television shows are some of my favorites</td>\n",
              "      <td id=\"T_8ffb1_row5_col1\" class=\"data row5 col1\" >0.000000</td>\n",
              "      <td id=\"T_8ffb1_row5_col2\" class=\"data row5 col2\" >0.040076</td>\n",
              "      <td id=\"T_8ffb1_row5_col3\" class=\"data row5 col3\" >0.421500</td>\n",
              "    </tr>\n",
              "    <tr>\n",
              "      <th id=\"T_8ffb1_level0_row6\" class=\"row_heading level0 row6\" >6</th>\n",
              "      <td id=\"T_8ffb1_row6_col0\" class=\"data row6 col0\" >I'm seeing a Kubrick film tomorrow, I hear not so great things about it.</td>\n",
              "      <td id=\"T_8ffb1_row6_col1\" class=\"data row6 col1\" >0.800000</td>\n",
              "      <td id=\"T_8ffb1_row6_col2\" class=\"data row6 col2\" >0.717875</td>\n",
              "      <td id=\"T_8ffb1_row6_col3\" class=\"data row6 col3\" >-0.629600</td>\n",
              "    </tr>\n",
              "    <tr>\n",
              "      <th id=\"T_8ffb1_level0_row7\" class=\"row_heading level0 row7\" >7</th>\n",
              "      <td id=\"T_8ffb1_row7_col0\" class=\"data row7 col0\" >I find chirping birds irritating, but I know I'm not the only one</td>\n",
              "      <td id=\"T_8ffb1_row7_col1\" class=\"data row7 col1\" >-0.200000</td>\n",
              "      <td id=\"T_8ffb1_row7_col2\" class=\"data row7 col2\" >0.257148</td>\n",
              "      <td id=\"T_8ffb1_row7_col3\" class=\"data row7 col3\" >-0.250000</td>\n",
              "    </tr>\n",
              "  </tbody>\n",
              "</table>\n"
            ]
          },
          "metadata": {},
          "execution_count": 10
        }
      ],
      "source": [
        "def get_scores(content):\n",
        "    blob = TextBlob(content)\n",
        "    nb_blob = blobber(content)\n",
        "    sia_scores = sia.polarity_scores(content)\n",
        "\n",
        "    return pd.Series({\n",
        "        'content': content,\n",
        "        'textblob': blob.sentiment.polarity,\n",
        "        'textblob_bayes': nb_blob.sentiment.p_pos - nb_blob.sentiment.p_neg,\n",
        "        'nltk': sia_scores['compound'],\n",
        "    })\n",
        "\n",
        "scores = df.content.apply(get_scores)\n",
        "scores.style.background_gradient(cmap='RdYlGn', axis=None, low=0.4, high=0.4)"
      ]
    },
    {
      "cell_type": "markdown",
      "metadata": {
        "id": "OSuYF4J2gYj3"
      },
      "source": [
        "Wow, ils ne sont vraiment pas d'accord les uns avec les autres ! Avec lequel êtes-vous le plus d'accord ? Est-ce que tout était \"juste\" ?\n",
        "\n",
        "Alors qu'il semblait magique de pouvoir brancher une phrase dans un analyseur de sentiments et d'obtenir un résultat en retour... peut-être que les choses ne sont pas aussi magiques que nous le pensions."
      ]
    },
    {
      "cell_type": "markdown",
      "metadata": {
        "id": "LvS-gP0vgYj3"
      },
      "source": [
        "## Review\n",
        "\n",
        "**L'analyse des sentiments** consiste à juger si un morceau de texte a une émotion positive ou négative. Nous avons abordé plusieurs outils permettant de réaliser une analyse automatique des sentiments : **NLTK**, et deux techniques au sein de **TextBlob**.\n",
        "\n",
        "Chaque outil utilise des données différentes pour déterminer ce qui est positif et négatif, et tandis que certains utilisent des **humains** pour marquer les choses comme positives ou négatives, d'autres utilisent un **apprentissage machine** automatique.\n",
        "\n",
        "En raison de ces différences, chaque outil peut obtenir des notes de sentiment très **différentes** pour le même morceau de texte."
      ]
    },
    {
      "cell_type": "markdown",
      "metadata": {
        "id": "UaD-SmD1gYj3"
      },
      "source": [
        "## Sujets de discussion\n",
        "\n",
        "Les premières questions consistent à savoir si un analyseur peut être appliqué dans des situations autres que celles pour lesquelles il a été formé. Entre autres choses, vous devrez vous demander si la langue sur laquelle il a été formé est similaire à la langue sur laquelle vous l'utilisez.\n",
        "\n",
        "**Il est possible d'utiliser un analyseur de sentiments construit à partir d'évaluations de produits pour vérifier le sentiment de tweets **Et de vérifier le sentiment d'évaluations de service hôtelier  ?\n",
        "\n",
        "**Il est possible d'utiliser un analyseur de sentiments formé sur tout pour vérifier le sentiment des tweets?** Et pour vérifier le sentiment des critiques de service hôtelier  ?\n",
        "\n",
        "**Si j'essaie de savoir si les gens aiment ou n'aiment pas ce qui se passe au cours des débats, puis-je utiliser ce genre d'outils sur les tweets ?\n",
        "\n",
        "Nous utilisons volontairement le terme incroyablement vague de \"bien\", car il existe différents niveaux de confort en fonction de votre situation. Faites-vous cela pour une recherche préliminaire ? Allez-vous publier les résultats dans une revue, dans un journal, dans un rapport au travail, dans une recommandation de politique publique ? Et si je vous disais que l'idéal du \"je n'utiliserais qu'un outil d'analyse de sentiments formé exactement pour mon domaine spécifique\" est à la fois _rare et peu pratique ?_.\n",
        "\n",
        "Comme nous l'avons vu dans la dernière section, **ces outils ne sont pas toujours en accord les uns avec les autres, ce qui peut être problématique.**\n",
        "\n",
        "* Qu'est-ce qui peut les mettre en accord ou en désaccord ?\n",
        "* Pensons-nous que l'un d'entre eux est le \"meilleur\" ?\n",
        "* Pouvez-vous imaginer des moyens de tester lequel est le \"meilleur\" pour nos besoins ?"
      ]
    },
    {
      "cell_type": "code",
      "execution_count": null,
      "metadata": {
        "id": "Ep9XfWfFgYj4"
      },
      "outputs": [],
      "source": []
    }
  ],
  "metadata": {
    "kernelspec": {
      "display_name": "Python 3",
      "language": "python",
      "name": "python3"
    },
    "language_info": {
      "codemirror_mode": {
        "name": "ipython",
        "version": 3
      },
      "file_extension": ".py",
      "mimetype": "text/x-python",
      "name": "python",
      "nbconvert_exporter": "python",
      "pygments_lexer": "ipython3",
      "version": "3.6.8"
    },
    "toc": {
      "base_numbering": 1,
      "nav_menu": {},
      "number_sections": true,
      "sideBar": true,
      "skip_h1_title": false,
      "title_cell": "Table of Contents",
      "title_sidebar": "Contents",
      "toc_cell": false,
      "toc_position": {},
      "toc_section_display": true,
      "toc_window_display": false
    },
    "colab": {
      "provenance": [],
      "include_colab_link": true
    }
  },
  "nbformat": 4,
  "nbformat_minor": 0
}